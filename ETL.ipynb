{
 "cells": [
  {
   "cell_type": "markdown",
   "metadata": {},
   "source": [
    "# **ETL**"
   ]
  },
  {
   "cell_type": "markdown",
   "metadata": {},
   "source": [
    "\n",
    "---------------------------------------------------------------------------\n",
    "# **Librerias**"
   ]
  },
  {
   "cell_type": "code",
   "execution_count": 4,
   "metadata": {},
   "outputs": [],
   "source": [
    "# Se importan las librerias necesarias\n",
    "import pandas as pd\n",
    "import openpyxl"
   ]
  },
  {
   "cell_type": "markdown",
   "metadata": {},
   "source": [
    "----------------------------------------------------------------------------\n",
    "# **Ruta**"
   ]
  },
  {
   "cell_type": "code",
   "execution_count": null,
   "metadata": {},
   "outputs": [],
   "source": [
    "# Esta sera la ruta para la lectura de los datos\n",
    "path = \"data/homicidios.xlsx\"\n"
   ]
  },
  {
   "cell_type": "markdown",
   "metadata": {},
   "source": [
    "---------------------------------------------------------------\n",
    "# **Lectura**"
   ]
  },
  {
   "cell_type": "code",
   "execution_count": 49,
   "metadata": {},
   "outputs": [],
   "source": [
    "# Lectura de los datos y transformacion en un DataFrame\n",
    "df = pd.read_excel(path, engine=\"openpyxl\", sheet_name=\"HECHOS\")"
   ]
  },
  {
   "cell_type": "markdown",
   "metadata": {},
   "source": [
    "--------------------------------------------------------------\n",
    "# **EDA**"
   ]
  },
  {
   "cell_type": "code",
   "execution_count": 8,
   "metadata": {},
   "outputs": [
    {
     "data": {
      "text/plain": [
       "696"
      ]
     },
     "execution_count": 8,
     "metadata": {},
     "output_type": "execute_result"
    }
   ],
   "source": [
    "# Se identifican la cantidad de valores unicos en la columna ID\n",
    "df['ID'].nunique()\n"
   ]
  },
  {
   "cell_type": "code",
   "execution_count": 9,
   "metadata": {},
   "outputs": [
    {
     "data": {
      "text/plain": [
       "598"
      ]
     },
     "execution_count": 9,
     "metadata": {},
     "output_type": "execute_result"
    }
   ],
   "source": [
    "# Se identifican la cantidad de Fechas unicas para asociarlo a accidentes diarios\n",
    "df['FECHA'].nunique()"
   ]
  },
  {
   "cell_type": "code",
   "execution_count": 17,
   "metadata": {},
   "outputs": [
    {
     "name": "stdout",
     "output_type": "stream",
     "text": [
      "AAAA\n",
      "2016    144\n",
      "2017    131\n",
      "2018    143\n",
      "2019    103\n",
      "2020     78\n",
      "2021     97\n",
      "Name: ID, dtype: int64\n"
     ]
    }
   ],
   "source": [
    "# Se identifica la cantidad de accidentes anuales\n",
    "print(df.groupby(\"AAAA\").ID.nunique())"
   ]
  },
  {
   "cell_type": "code",
   "execution_count": 43,
   "metadata": {},
   "outputs": [
    {
     "name": "stdout",
     "output_type": "stream",
     "text": [
      "AAAA         2016  2017  2018  2019  2020  2021\n",
      "VICTIMA                                        \n",
      "AUTO         17.0  18.0  15.0  11.0  11.0  11.0\n",
      "BICICLETA     4.0   4.0   3.0   7.0   5.0   6.0\n",
      "CARGAS        3.0   2.0   2.0   0.0   0.0   0.0\n",
      "MOTO         64.0  53.0  55.0  50.0  27.0  46.0\n",
      "MOVIL         1.0   0.0   1.0   0.0   0.0   0.0\n",
      "OBJETO FIJO   0.0   1.0   0.0   0.0   0.0   0.0\n",
      "PASAJEROS     1.0   0.0   2.0   1.0   0.0   1.0\n",
      "PEATON       49.0  49.0  65.0  34.0  34.0  33.0\n",
      "PEATON_MOTO   0.0   0.0   0.0   0.0   1.0   0.0\n",
      "SD            5.0   4.0   0.0   0.0   0.0   0.0\n"
     ]
    }
   ],
   "source": [
    "df1 = df.copy() #se realiza una copia del DataFrame original para aislar datos en torno a la columna victima\n",
    "\n",
    "df1 =df1.drop(['N_VICTIMAS', 'FECHA', 'MM', 'DD', 'HORA', 'HH',\n",
    "       'LUGAR_DEL_HECHO', 'TIPO_DE_CALLE', 'Calle', 'Altura', 'Cruce',\n",
    "       'Dirección Normalizada', 'COMUNA', 'XY (CABA)', 'pos x', 'pos y',\n",
    "       'PARTICIPANTES', 'ACUSADO'], axis=1) #se eliminan las columnas innecesarias para el analicis deseado\n",
    "\n",
    "\n",
    "table1 = pd.pivot_table(df1, values='ID', index=['VICTIMA'],\n",
    "                       columns=['AAAA'], aggfunc=\"count\") #se realiza un pivote de la informacion para desplegarla de una forma mas intuitiva\n",
    "\n",
    "table1 = table1.fillna(0) # al pivotar se generan campos con valores NaN que reemplazaremos con 0\n",
    "\n",
    "print(table1)\n"
   ]
  },
  {
   "cell_type": "code",
   "execution_count": 45,
   "metadata": {},
   "outputs": [
    {
     "name": "stdout",
     "output_type": "stream",
     "text": [
      "AAAA         2016  2017  2018  2019  2020  2021\n",
      "ACUSADO                                        \n",
      "AUTO         39.0  39.0  37.0  33.0  25.0  31.0\n",
      "BICICLETA     1.0   1.0   1.0   2.0   0.0   2.0\n",
      "CARGAS       23.0  28.0  37.0  21.0  14.0  23.0\n",
      "MOTO         14.0   7.0  16.0   8.0   9.0   3.0\n",
      "MULTIPLE      2.0   4.0   4.0   4.0   1.0   2.0\n",
      "OBJETO FIJO   9.0  16.0   0.0   7.0  10.0  20.0\n",
      "OTRO          1.0   0.0   2.0   2.0   0.0   1.0\n",
      "PASAJEROS    42.0  32.0  44.0  22.0  19.0  14.0\n",
      "SD           13.0   4.0   2.0   3.0   0.0   1.0\n",
      "TREN          0.0   0.0   0.0   1.0   0.0   0.0\n"
     ]
    }
   ],
   "source": [
    "df2 = df.copy() #se realiza una copia del DataFrame original para aislar datos en torno a la columna acusado\n",
    "\n",
    "df2 =df2.drop(['N_VICTIMAS', 'FECHA', 'MM', 'DD', 'HORA', 'HH',\n",
    "       'LUGAR_DEL_HECHO', 'TIPO_DE_CALLE', 'Calle', 'Altura', 'Cruce',\n",
    "       'Dirección Normalizada', 'COMUNA', 'XY (CABA)', 'pos x', 'pos y',\n",
    "       'PARTICIPANTES', 'VICTIMA'], axis=1) #se eliminan las columnas innecesarias para el analicis deseado\n",
    "\n",
    "\n",
    "table2 = pd.pivot_table(df2, values='ID', index=['ACUSADO'],\n",
    "                       columns=['AAAA'], aggfunc=\"count\") #se realiza un pivote de la informacion para desplegarla de una forma mas intuitiva\n",
    "\n",
    "table2 = table2.fillna(0) # al pivotar se generan campos con valores NaN que reemplazaremos con 0\n",
    "\n",
    "print(table2)"
   ]
  },
  {
   "cell_type": "code",
   "execution_count": 13,
   "metadata": {},
   "outputs": [
    {
     "name": "stdout",
     "output_type": "stream",
     "text": [
      "2016-01-01 00:00:00\n"
     ]
    }
   ],
   "source": [
    "# Se revisa la fecha de el primer accidente de el DataFrame\n",
    "Fecha_primer_accidente =df['FECHA'].min()\n",
    "print(Fecha_primer_accidente)"
   ]
  },
  {
   "cell_type": "code",
   "execution_count": 51,
   "metadata": {},
   "outputs": [
    {
     "name": "stdout",
     "output_type": "stream",
     "text": [
      "2021-12-30 00:00:00\n"
     ]
    }
   ],
   "source": [
    "#Se revisa la fecha de el ultimo accidente de nuestro DataFrame\n",
    "Fecha_ultimo_accidente=df['FECHA'].max()\n",
    "print(Fecha_ultimo_accidente)"
   ]
  },
  {
   "cell_type": "markdown",
   "metadata": {},
   "source": [
    "--------------------------------------------------------------------\n",
    "# **Almacenamiento**"
   ]
  },
  {
   "cell_type": "code",
   "execution_count": 44,
   "metadata": {},
   "outputs": [],
   "source": [
    "df.to_json('./Data/clean/HECHOS.json') #se almacena nuestro DataFrame completo"
   ]
  },
  {
   "cell_type": "code",
   "execution_count": 46,
   "metadata": {},
   "outputs": [],
   "source": [
    "df1.to_json('./Data/clean/VICTIMA.json') #se almacena nuestro DataFrame de victima"
   ]
  },
  {
   "cell_type": "code",
   "execution_count": 47,
   "metadata": {},
   "outputs": [],
   "source": [
    "df2.to_json('./Data/clean/ACUSADO.json') #se almacena nuestro DataFrame de acusado"
   ]
  }
 ],
 "metadata": {
  "kernelspec": {
   "display_name": "Python 3",
   "language": "python",
   "name": "python3"
  },
  "language_info": {
   "codemirror_mode": {
    "name": "ipython",
    "version": 3
   },
   "file_extension": ".py",
   "mimetype": "text/x-python",
   "name": "python",
   "nbconvert_exporter": "python",
   "pygments_lexer": "ipython3",
   "version": "3.11.2"
  }
 },
 "nbformat": 4,
 "nbformat_minor": 2
}
